{
 "cells": [
  {
   "cell_type": "markdown",
   "metadata": {},
   "source": [
    "### Notebook to test LSTM and embeddings using tflearn for NLP(sentiment prediction)\n",
    "#### As a second objective . The corresponding NN will be trained on AWS Tensorflow instances with GPU"
   ]
  },
  {
   "cell_type": "code",
   "execution_count": 23,
   "metadata": {
    "collapsed": true
   },
   "outputs": [],
   "source": [
    "import tflearn\n",
    "from tflearn.data_utils import to_categorical,pad_sequences\n",
    "from tflearn.datasets import imdb\n",
    "import tensorflow as tf\n",
    "import time"
   ]
  },
  {
   "cell_type": "markdown",
   "metadata": {},
   "source": [
    "### Load IMDB dataset and split in train,test"
   ]
  },
  {
   "cell_type": "code",
   "execution_count": 2,
   "metadata": {},
   "outputs": [
    {
     "name": "stdout",
     "output_type": "stream",
     "text": [
      "Downloading data from http://www.iro.umontreal.ca/~lisa/deep/data/imdb.pkl\n"
     ]
    }
   ],
   "source": [
    "train,test,_ = imdb.load_data(path=\"imdb.pkl\",n_words=10000,valid_portion=0.1)"
   ]
  },
  {
   "cell_type": "code",
   "execution_count": 3,
   "metadata": {
    "collapsed": true
   },
   "outputs": [],
   "source": [
    "trainX,trainY = train\n",
    "testX,testY = test"
   ]
  },
  {
   "cell_type": "markdown",
   "metadata": {},
   "source": [
    "### Data preprocessing\n",
    "#### Sequence padding on X, and convert to 1-hot encoding Y"
   ]
  },
  {
   "cell_type": "code",
   "execution_count": 8,
   "metadata": {
    "collapsed": true
   },
   "outputs": [],
   "source": [
    "trainX = pad_sequences(trainX,maxlen=100,value=0.0)\n",
    "testX = pad_sequences(testX,maxlen=100,value=0.0)\n",
    "\n",
    "trainY = to_categorical(trainY,nb_classes=2)\n",
    "testY = to_categorical(testY,nb_classes=2)"
   ]
  },
  {
   "cell_type": "markdown",
   "metadata": {},
   "source": [
    "### Define network architecture"
   ]
  },
  {
   "cell_type": "code",
   "execution_count": 24,
   "metadata": {},
   "outputs": [],
   "source": [
    "tf.reset_default_graph()\n",
    "network = tflearn.input_data([None,100])\n",
    "network = tflearn.embedding(network,input_dim=10000,output_dim=128)\n",
    "network = tflearn.lstm(network,128,dropout=0.8)\n",
    "network = tflearn.fully_connected(network,2,activation=\"softmax\")\n",
    "network = tflearn.regression(network,optimizer=\"adam\",learning_rate=0.001,loss=\"categorical_crossentropy\")"
   ]
  },
  {
   "cell_type": "markdown",
   "metadata": {},
   "source": [
    "### Training"
   ]
  },
  {
   "cell_type": "code",
   "execution_count": 25,
   "metadata": {},
   "outputs": [
    {
     "name": "stdout",
     "output_type": "stream",
     "text": [
      "Training Step: 7039  | total loss: \u001b[1m\u001b[32m0.04109\u001b[0m\u001b[0m | time: 67.337s\n",
      "| Adam | epoch: 010 | loss: 0.04109 - acc: 0.9894 -- iter: 22496/22500\n",
      "Training Step: 7040  | total loss: \u001b[1m\u001b[32m0.03923\u001b[0m\u001b[0m | time: 69.981s\n",
      "| Adam | epoch: 010 | loss: 0.03923 - acc: 0.9905 | val_loss: 0.90646 - val_acc: 0.7884 -- iter: 22500/22500\n",
      "--\n",
      "Elapsed time 690.6209170818329\n"
     ]
    }
   ],
   "source": [
    "start = time.time()\n",
    "model = tflearn.DNN(network,tensorboard_verbose=0)\n",
    "model.fit(trainX,trainY,validation_set = (testX,testY),show_metric= True,batch_size=32)\n",
    "elapsed_time = float(time.time()- start)\n",
    "print(\"Elapsed time\",elapsed_time)"
   ]
  },
  {
   "cell_type": "code",
   "execution_count": null,
   "metadata": {
    "collapsed": true
   },
   "outputs": [],
   "source": []
  }
 ],
 "metadata": {
  "kernelspec": {
   "display_name": "Python 3",
   "language": "python",
   "name": "python3"
  },
  "language_info": {
   "codemirror_mode": {
    "name": "ipython",
    "version": 3
   },
   "file_extension": ".py",
   "mimetype": "text/x-python",
   "name": "python",
   "nbconvert_exporter": "python",
   "pygments_lexer": "ipython3",
   "version": "3.5.3"
  }
 },
 "nbformat": 4,
 "nbformat_minor": 2
}
